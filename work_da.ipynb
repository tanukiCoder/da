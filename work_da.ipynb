{
 "cells": [
  {
   "cell_type": "code",
   "execution_count": 1,
   "id": "4d6e2d18-314b-4a86-a4b9-9850b06eeb1b",
   "metadata": {},
   "outputs": [],
   "source": [
    "import pandas as pd\n",
    "import numpy as np\n",
    "import re\n",
    "import matplotlib\n",
    "from matplotlib import pyplot as plt"
   ]
  },
  {
   "cell_type": "code",
   "execution_count": 2,
   "id": "6a4e54cc-9664-4b4e-b30d-0f7fae5c1319",
   "metadata": {},
   "outputs": [],
   "source": [
    "work_data = pd.read_csv(\"works.csv\", header=0, index_col=False)"
   ]
  },
  {
   "cell_type": "markdown",
   "id": "8da613a0-e598-427a-8835-4559366600fc",
   "metadata": {},
   "source": [
    "<h1>Образование менеджеров</h1>"
   ]
  },
  {
   "cell_type": "code",
   "execution_count": null,
   "id": "c8addb33-82d8-4bd1-b028-45318ca6c7e8",
   "metadata": {},
   "outputs": [],
   "source": [
    "law = r'(.*юри.*)|(.*адвокат.*)'\n",
    "finance = r'(.*эконом.*)|(.*банк.*)|(.*финанс.*)|(.*бухгалтер.*)'\n",
    "administrative = r'(.*менедж.*)|(.*директ.*)|(.*секретар.*)|(.*управ.*)'\n",
    "tech = r'(.*техн.*)|(.*инженер.*)|(.*разработ.*)|(.*меха.*)|(.*матем.*)'\n",
    "trade = r'(.*прода.*)|(.*касси.*)|(.*маркето.*)'\n",
    "stud = r'(.*педагог.*)|(.*преподават.*)|(.*учител.*)|(.*воспита.*)'"
   ]
  },
  {
   "cell_type": "code",
   "execution_count": 4,
   "id": "6934196d-897d-401d-950f-fc103edc01ce",
   "metadata": {},
   "outputs": [],
   "source": [
    "# выбор менеджеров с известной квалификацией\n",
    "managers = work_data[work_data.jobTitle.str.contains(r'.*менеджер.*', case=False, flags=re.IGNORECASE, na=False)]\n",
    "managers = managers[~managers.qualification.isna()]\n",
    "total_managers = managers.shape[0]"
   ]
  },
  {
   "cell_type": "code",
   "execution_count": 5,
   "id": "5c43fa71-699b-462c-b33b-e487ff49582d",
   "metadata": {},
   "outputs": [],
   "source": [
    "def get_managers_qualif(qualif_regex):\n",
    "    return managers[managers.qualification.str.contains(qualif_regex, case=False, flags=re.IGNORECASE, na=False)]"
   ]
  },
  {
   "cell_type": "code",
   "execution_count": null,
   "id": "9a91dd92-173f-4ea3-b01d-4524e7baf34a",
   "metadata": {},
   "outputs": [],
   "source": [
    "law_m = get_managers_qualif(law) # менеджеры с образованием в сфере юриспруденции: адвокаты, юристы\n",
    "finance_m = get_managers_qualif(finance) # в сфере финансов: экономисты, бухгалтера, банковское дело\n",
    "admin_m = get_managers_qualif(administrative) # управленческая сфера\n",
    "trade_m = get_managers_qualif(trade) # сфера торговли\n",
    "tech_m = get_managers_qualif(tech) # техническая сфера, инженеры\n",
    "teach_m = get_managers_qualif(stud) # сфера педагогики"
   ]
  },
  {
   "cell_type": "code",
   "execution_count": 7,
   "id": "32975392-8dde-4581-b698-d9469ad6023e",
   "metadata": {},
   "outputs": [],
   "source": [
    "count_by_name = dict()\n",
    "count_by_name['Юриспруденция'] = law_m.shape[0]\n",
    "count_by_name['Экономика'] = finance_m.shape[0]\n",
    "count_by_name['Управление'] = admin_m.shape[0]\n",
    "count_by_name['Торговля'] = trade_m.shape[0]\n",
    "count_by_name['Инженеры и технологи'] = tech_m.shape[0]\n",
    "count_by_name['Педагоги'] = teach_m.shape[0]"
   ]
  },
  {
   "cell_type": "code",
   "execution_count": 9,
   "id": "70c7bec7-f654-4a44-b19a-d43acf116492",
   "metadata": {},
   "outputs": [],
   "source": [
    "# https://stackoverflow.com/questions/44706485/how-to-remove-rows-in-a-pandas-dataframe-if-the-same-row-exists-in-another-dataf\n",
    "other_m = managers.copy()\n",
    "for df in [law_m, finance_m, admin_m, trade_m, tech_m, teach_m]:\n",
    "    other_m = pd.merge(other_m, df, indicator=True, how='outer').query('_merge==\"left_only\"').drop('_merge', axis=1)"
   ]
  },
  {
   "cell_type": "code",
   "execution_count": null,
   "id": "a9bec378-5623-4ec0-8271-1c8a7dc79a02",
   "metadata": {},
   "outputs": [],
   "source": [
    "# расплывчатые описания профессий - просто \"бакалавр\" не несет никакой информации\n",
    "vague_qualif_count = other_m[~other_m.qualification.str.contains('( *бакалавр *)|( *специалист *)|( *магистр *)', case=False, flags=re.IGNORECASE)].shape[0]\n",
    "# остальные профессий, количестов которых по отдельности слишком мало, чтобы выделить их в одну группу\n",
    "# поэтому они рассматриваются вместе\n",
    "misc_qs_count = other_m.shape[0] - vague_qualif_count\n",
    "count_by_name[r'Бакалавр/Специалист/Магистр'] = vague_qualif_count\n",
    "count_by_name['Другое'] = misc_qs_count"
   ]
  },
  {
   "cell_type": "code",
   "execution_count": 11,
   "id": "cc627bd6-a000-4aca-bd56-0c46f23c70ab",
   "metadata": {},
   "outputs": [
    {
     "data": {
      "image/png": "[encoded data removed]",
      "text/plain": [
       "<Figure size 432x288 with 1 Axes>"
      ]
     },
     "metadata": {},
     "output_type": "display_data"
    }
   ],
   "source": [
    "plt.pie(list(count_by_name.values()), labels=list(count_by_name.keys()))\n",
    "plt.show()"
   ]
  },
  {
   "cell_type": "code",
   "execution_count": null,
   "id": "4a00b5a5-afcd-4c2a-b1d7-bd37bac91dde",
   "metadata": {},
   "outputs": [],
   "source": []
  }
 ],
 "metadata": {
  "kernelspec": {
   "display_name": "Python 3",
   "language": "python",
   "name": "python3"
  },
  "language_info": {
   "codemirror_mode": {
    "name": "ipython",
    "version": 3
   },
   "file_extension": ".py",
   "mimetype": "text/x-python",
   "name": "python",
   "nbconvert_exporter": "python",
   "pygments_lexer": "ipython3",
   "version": "3.8.8"
  }
 },
 "nbformat": 4,
 "nbformat_minor": 5
}
